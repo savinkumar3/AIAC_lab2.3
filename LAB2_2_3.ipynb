{
  "nbformat": 4,
  "nbformat_minor": 0,
  "metadata": {
    "colab": {
      "provenance": [],
      "authorship_tag": "ABX9TyPCtuj/s/HGDq0PRFqOXGsG",
      "include_colab_link": true
    },
    "kernelspec": {
      "name": "python3",
      "display_name": "Python 3"
    },
    "language_info": {
      "name": "python"
    }
  },
  "cells": [
    {
      "cell_type": "markdown",
      "metadata": {
        "id": "view-in-github",
        "colab_type": "text"
      },
      "source": [
        "<a href=\"https://colab.research.google.com/github/savinkumar3/AIAC_lab2.3/blob/main/LAB2_2_3.ipynb\" target=\"_parent\"><img src=\"https://colab.research.google.com/assets/colab-badge.svg\" alt=\"Open In Colab\"/></a>"
      ]
    },
    {
      "cell_type": "markdown",
      "source": [
        "Task Description#1\n",
        "● Use Google Gemini in Colab to write a function that reads a CSV file and calculates mean, min, max.\n",
        "\n",
        "Expected Output#1\n",
        "● Functional code with output and screenshot"
      ],
      "metadata": {
        "id": "sfkazhJzj5ZZ"
      }
    },
    {
      "cell_type": "code",
      "source": [],
      "metadata": {
        "id": "6xbT6mAAGw4B"
      },
      "execution_count": null,
      "outputs": []
    },
    {
      "cell_type": "code",
      "metadata": {
        "id": "83f8cbc4"
      },
      "source": [
        "import pandas as pd\n",
        "import numpy as np\n",
        "\n",
        "def analyze_csv(filename):\n",
        "  \"\"\"\n",
        "  Reads a CSV file and calculates the min, mean, and max of numerical columns.\n",
        "\n",
        "  Args:\n",
        "    filename: The path to the CSV file.\n",
        "\n",
        "  Returns:\n",
        "    A dictionary where keys are column names and values are dictionaries\n",
        "    containing 'min', 'mean', and 'max' for that column,\n",
        "    or None if the file is not found or no numerical columns are present.\n",
        "  \"\"\"\n",
        "  try:\n",
        "    df = pd.read_csv(filename)\n",
        "\n",
        "    numerical_cols = df.select_dtypes(include=np.number).columns\n",
        "\n",
        "    if numerical_cols.empty:\n",
        "      print(f\"No numerical columns found in '{filename}'.\")\n",
        "      return None\n",
        "\n",
        "    results = {}\n",
        "    for col in numerical_cols:\n",
        "      col_min = df[col].min()\n",
        "      col_mean = df[col].mean()\n",
        "      col_max = df[col].max()\n",
        "      results[col] = {'min': col_min, 'mean': col_mean, 'max': col_max}\n",
        "\n",
        "    return results\n",
        "\n",
        "  except FileNotFoundError:\n",
        "    print(f\"Error: File '{filename}' not found.\")\n",
        "    return None\n",
        "  except Exception as e:\n",
        "    print(f\"An error occurred: {e}\")\n",
        "    return None"
      ],
      "execution_count": null,
      "outputs": []
    },
    {
      "cell_type": "code",
      "metadata": {
        "colab": {
          "base_uri": "https://localhost:8080/"
        },
        "id": "073e36da",
        "outputId": "bf9a461a-2df1-41d1-92f3-f564dab31e11"
      },
      "source": [
        "results = analyze_csv('/content/LAb2_2.3.csv')\n",
        "if results:\n",
        "  print(\"Analysis Results:\")\n",
        "  for col, values in results.items():\n",
        "    print(f\"  Column '{'Marks'}':\")\n",
        "    print(f\"    Min: {values['min']:.2f}\")\n",
        "    print(f\"    Mean: {values['mean']:.2f}\")\n",
        "    print(f\"    Max: {values['max']:.2f}\")"
      ],
      "execution_count": null,
      "outputs": [
        {
          "output_type": "stream",
          "name": "stdout",
          "text": [
            "Analysis Results:\n",
            "  Column 'Marks':\n",
            "    Min: 2.00\n",
            "    Mean: 10.46\n",
            "    Max: 26.00\n"
          ]
        }
      ]
    }
  ]
}