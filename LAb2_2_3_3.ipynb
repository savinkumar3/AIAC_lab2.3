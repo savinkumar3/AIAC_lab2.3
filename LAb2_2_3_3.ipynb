{
  "nbformat": 4,
  "nbformat_minor": 0,
  "metadata": {
    "colab": {
      "provenance": [],
      "authorship_tag": "ABX9TyPt25JiQe/26uGuldKZ0oK7",
      "include_colab_link": true
    },
    "kernelspec": {
      "name": "python3",
      "display_name": "Python 3"
    },
    "language_info": {
      "name": "python"
    }
  },
  "cells": [
    {
      "cell_type": "markdown",
      "metadata": {
        "id": "view-in-github",
        "colab_type": "text"
      },
      "source": [
        "<a href=\"https://colab.research.google.com/github/savinkumar3/AIAC_lab2.3/blob/main/LAb2_2_3_3.ipynb\" target=\"_parent\"><img src=\"https://colab.research.google.com/assets/colab-badge.svg\" alt=\"Open In Colab\"/></a>"
      ]
    },
    {
      "cell_type": "code",
      "execution_count": null,
      "metadata": {
        "id": "Ko4yXlANhk7l"
      },
      "outputs": [],
      "source": [
        "Task Description#3\n",
        "● Ask Gemini to explain a Python function (to calculate area of various shapes) line by\n",
        "line..\n",
        "Expected Output#3\n",
        "● Detailed explanation with code snippet"
      ]
    },
    {
      "cell_type": "code",
      "source": [],
      "metadata": {
        "id": "1e4_YG7LY_Qh"
      },
      "execution_count": null,
      "outputs": []
    },
    {
      "cell_type": "code",
      "metadata": {
        "colab": {
          "base_uri": "https://localhost:8080/"
        },
        "id": "c49fe3c6",
        "outputId": "77f84f26-6204-430e-b476-bcacab536303"
      },
      "source": [
        "import math\n",
        "\n",
        "def calculate_area():\n",
        "    \"\"\"Calculates the area of various shapes based on user input.\"\"\"\n",
        "    shape = input(\"Enter the shape (circle, square, rectangle, triangle): \").lower()\n",
        "\n",
        "    if shape == 'circle':\n",
        "        radius = float(input(\"Enter the radius: \"))\n",
        "        area = math.pi * radius**2\n",
        "        print(f\"The area of the circle is: {area}\")\n",
        "    elif shape == 'square':\n",
        "        side = float(input(\"Enter the side length: \"))\n",
        "        area = side**2\n",
        "        print(f\"The area of the square is: {area}\")\n",
        "    elif shape == 'rectangle':\n",
        "        length = float(input(\"Enter the length: \"))\n",
        "        width = float(input(\"Enter the width: \"))\n",
        "        area = length * width\n",
        "        print(f\"The area of the rectangle is: {area}\")\n",
        "    elif shape == 'triangle':\n",
        "        base = float(input(\"Enter the base: \"))\n",
        "        height = float(input(\"Enter the height: \"))\n",
        "        area = 0.5 * base * height\n",
        "        print(f\"The area of the triangle is: {area}\")\n",
        "    else:\n",
        "        print(\"Invalid shape entered.\")\n",
        "\n",
        "# Call the function to start the interaction\n",
        "calculate_area()"
      ],
      "execution_count": 5,
      "outputs": [
        {
          "output_type": "stream",
          "name": "stdout",
          "text": [
            "Enter the shape (circle, square, rectangle, triangle): circle\n",
            "Enter the radius: 5\n",
            "The area of the circle is: 78.53981633974483\n"
          ]
        }
      ]
    }
  ]
}