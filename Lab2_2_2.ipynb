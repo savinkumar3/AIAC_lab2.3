{
  "nbformat": 4,
  "nbformat_minor": 0,
  "metadata": {
    "colab": {
      "provenance": [],
      "authorship_tag": "ABX9TyM0/VJkPivFIvJTw+DTp970",
      "include_colab_link": true
    },
    "kernelspec": {
      "name": "python3",
      "display_name": "Python 3"
    },
    "language_info": {
      "name": "python"
    }
  },
  "cells": [
    {
      "cell_type": "markdown",
      "metadata": {
        "id": "view-in-github",
        "colab_type": "text"
      },
      "source": [
        "<a href=\"https://colab.research.google.com/github/savinkumar3/AIAC_lab2.3/blob/main/Lab2_2_2.ipynb\" target=\"_parent\"><img src=\"https://colab.research.google.com/assets/colab-badge.svg\" alt=\"Open In Colab\"/></a>"
      ]
    },
    {
      "cell_type": "markdown",
      "source": [
        "Task Description#2\n",
        "● Compare Gemini and Copilot outputs for a palindrome check function.\n",
        "\n",
        "Expected Output#2\n",
        "● Side-by-side comparison and observations"
      ],
      "metadata": {
        "id": "txBpbFNmoDM_"
      }
    },
    {
      "cell_type": "code",
      "source": [
        "def is_palindrome(input_value):\n",
        "  \"\"\"Checks if a string or number is a palindrome.\"\"\"\n",
        "  # Convert the input to a string\n",
        "  input_str = str(input_value)\n",
        "  # Reverse the string\n",
        "  reversed_str = input_str[::-1]\n",
        "  # Compare the original and reversed strings\n",
        "  return input_str == reversed_str\n",
        "\n",
        "# Get input from the user\n",
        "user_input = input(\"Enter a number or string: \")\n",
        "\n",
        "# Check if it's a palindrome and print the result\n",
        "if is_palindrome(user_input):\n",
        "  print(f\"'{user_input}' is a palindrome.\")\n",
        "else:\n",
        "  print(f\"'{user_input}' is not a palindrome.\")"
      ],
      "metadata": {
        "colab": {
          "base_uri": "https://localhost:8080/"
        },
        "id": "luLzj_aUoJQT",
        "outputId": "2f80d24f-54a6-4552-976f-04795b2f7839"
      },
      "execution_count": 2,
      "outputs": [
        {
          "output_type": "stream",
          "name": "stdout",
          "text": [
            "Enter a number or string: 123\n",
            "'123' is not a palindrome.\n"
          ]
        }
      ]
    }
  ]
}