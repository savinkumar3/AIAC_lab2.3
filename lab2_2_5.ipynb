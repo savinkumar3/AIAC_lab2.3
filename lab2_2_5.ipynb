{
  "nbformat": 4,
  "nbformat_minor": 0,
  "metadata": {
    "colab": {
      "provenance": [],
      "authorship_tag": "ABX9TyNVXVTygFGWICz+6QpY8roq",
      "include_colab_link": true
    },
    "kernelspec": {
      "name": "python3",
      "display_name": "Python 3"
    },
    "language_info": {
      "name": "python"
    }
  },
  "cells": [
    {
      "cell_type": "markdown",
      "metadata": {
        "id": "view-in-github",
        "colab_type": "text"
      },
      "source": [
        "<a href=\"https://colab.research.google.com/github/savinkumar3/AIAC_lab2.3/blob/main/lab2_2_5.ipynb\" target=\"_parent\"><img src=\"https://colab.research.google.com/assets/colab-badge.svg\" alt=\"Open In Colab\"/></a>"
      ]
    },
    {
      "cell_type": "code",
      "source": [
        "Task Description#5\n",
        "● Student need to write code to calculate sum of add number and even numbers in the list\n",
        "Expected Output#5\n",
        "● Refactored code written by student with improved logic"
      ],
      "metadata": {
        "id": "d82omwx7jj__"
      },
      "execution_count": null,
      "outputs": []
    },
    {
      "cell_type": "code",
      "metadata": {
        "colab": {
          "base_uri": "https://localhost:8080/"
        },
        "id": "0dd04487",
        "outputId": "18b69508-edd3-4e1d-b962-0aa60446beea"
      },
      "source": [
        "def sum_odd_even_from_input():\n",
        "  \"\"\"Reads a list of numbers from the user and calculates the sum of odd and even numbers.\"\"\"\n",
        "  input_string = input(\"Enter a list of numbers separated by spaces: \")\n",
        "  try:\n",
        "    numbers = [int(x) for x in input_string.split()]\n",
        "    odd_sum = 0\n",
        "    even_sum = 0\n",
        "    for number in numbers:\n",
        "      if number % 2 == 0:\n",
        "        even_sum += number\n",
        "      else:\n",
        "        odd_sum += number\n",
        "    print(f\"Sum of odd numbers: {odd_sum}\")\n",
        "    print(f\"Sum of even numbers: {even_sum}\")\n",
        "  except ValueError:\n",
        "    print(\"Invalid input. Please enter numbers separated by spaces.\")\n",
        "\n",
        "sum_odd_even_from_input()"
      ],
      "execution_count": 3,
      "outputs": [
        {
          "output_type": "stream",
          "name": "stdout",
          "text": [
            "Enter a list of numbers separated by spaces: 1 2 3 4 5 6 7 8 9 10\n",
            "Sum of odd numbers: 25\n",
            "Sum of even numbers: 30\n"
          ]
        }
      ]
    }
  ]
}